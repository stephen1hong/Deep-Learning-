{
  "nbformat": 4,
  "nbformat_minor": 0,
  "metadata": {
    "colab": {
      "name": "Untitled3.ipynb",
      "version": "0.3.2",
      "provenance": []
    },
    "kernelspec": {
      "name": "python3",
      "display_name": "Python 3"
    }
  },
  "cells": [
    {
      "metadata": {
        "id": "IkHX0DuxFopy",
        "colab_type": "code",
        "colab": {}
      },
      "cell_type": "code",
      "source": [
        "import tensorflow as tf\n",
        "\n",
        "class myCallback(tf.keras.callbacks.Callback):\n",
        "  def on_epoch_end(self, epoch, logs={}):\n",
        "    if(logs.get('acc')>0.998):\n",
        "      print(\"\\nReached 60% accuracy so cancelling training!\")\n",
        "      self.model.stop_training = True\n",
        "\n",
        "callbacks =myCallback()"
      ],
      "execution_count": 0,
      "outputs": []
    },
    {
      "metadata": {
        "id": "lKiICQqyFxKB",
        "colab_type": "code",
        "colab": {}
      },
      "cell_type": "code",
      "source": [
        "mnist = tf.keras.datasets.mnist\n",
        "(x_train, y_train),(x_test, y_test) = mnist.load_data()\n"
      ],
      "execution_count": 0,
      "outputs": []
    },
    {
      "metadata": {
        "id": "fKX7Y0VrGy7x",
        "colab_type": "code",
        "colab": {}
      },
      "cell_type": "code",
      "source": [
        "x_train =x_train.reshape(len(x_train),28,28,1)"
      ],
      "execution_count": 0,
      "outputs": []
    },
    {
      "metadata": {
        "id": "kysFjYEsIR_h",
        "colab_type": "code",
        "colab": {}
      },
      "cell_type": "code",
      "source": [
        "x_train =x_train/255.0"
      ],
      "execution_count": 0,
      "outputs": []
    },
    {
      "metadata": {
        "id": "AYo6qQkvHCLx",
        "colab_type": "code",
        "colab": {}
      },
      "cell_type": "code",
      "source": [
        "x_test =x_test.reshape(len(x_test),28,28,1)"
      ],
      "execution_count": 0,
      "outputs": []
    },
    {
      "metadata": {
        "id": "9bWoCoO8Ixfh",
        "colab_type": "code",
        "colab": {}
      },
      "cell_type": "code",
      "source": [
        "x_test =x_test/255.0"
      ],
      "execution_count": 0,
      "outputs": []
    },
    {
      "metadata": {
        "id": "oMiJuOshHMNC",
        "colab_type": "code",
        "colab": {
          "base_uri": "https://localhost:8080/",
          "height": 90
        },
        "outputId": "8a365cc7-ecf6-42fd-e4c4-c9770cbf216e"
      },
      "cell_type": "code",
      "source": [
        "model =tf.keras.models.Sequential([\n",
        "    tf.keras.layers.Conv2D(32,(3,3),activation='relu',input_shape=(28,28,1)),\n",
        "    tf.keras.layers.MaxPooling2D(2,2),\n",
        "    tf.keras.layers.Flatten(),\n",
        "    tf.keras.layers.Dense(64, activation='relu'),\n",
        "    tf.keras.layers.Dense(10,activation='softmax')\n",
        "])\n",
        "model.compile(optimizer='adam',loss='sparse_categorical_crossentropy', metrics=['accuracy'])"
      ],
      "execution_count": 7,
      "outputs": [
        {
          "output_type": "stream",
          "text": [
            "WARNING:tensorflow:From /usr/local/lib/python3.6/dist-packages/tensorflow/python/ops/resource_variable_ops.py:435: colocate_with (from tensorflow.python.framework.ops) is deprecated and will be removed in a future version.\n",
            "Instructions for updating:\n",
            "Colocations handled automatically by placer.\n"
          ],
          "name": "stdout"
        }
      ]
    },
    {
      "metadata": {
        "id": "-TB41Yd-H8H-",
        "colab_type": "code",
        "colab": {
          "base_uri": "https://localhost:8080/",
          "height": 422
        },
        "outputId": "2083692a-6390-44f3-f302-430d596e437b"
      },
      "cell_type": "code",
      "source": [
        "model.fit(x_train, y_train, epochs=10,callbacks=[callbacks])"
      ],
      "execution_count": 8,
      "outputs": [
        {
          "output_type": "stream",
          "text": [
            "Epoch 1/10\n",
            "60000/60000 [==============================] - 42s 696us/sample - loss: 0.1661 - acc: 0.9505\n",
            "Epoch 2/10\n",
            "60000/60000 [==============================] - 42s 697us/sample - loss: 0.0579 - acc: 0.9821\n",
            "Epoch 3/10\n",
            "60000/60000 [==============================] - 43s 710us/sample - loss: 0.0387 - acc: 0.9879\n",
            "Epoch 4/10\n",
            "60000/60000 [==============================] - 42s 707us/sample - loss: 0.0280 - acc: 0.9913\n",
            "Epoch 5/10\n",
            "60000/60000 [==============================] - 43s 712us/sample - loss: 0.0194 - acc: 0.9938\n",
            "Epoch 6/10\n",
            "60000/60000 [==============================] - 43s 724us/sample - loss: 0.0133 - acc: 0.9959\n",
            "Epoch 7/10\n",
            "60000/60000 [==============================] - 42s 701us/sample - loss: 0.0112 - acc: 0.9966\n",
            "Epoch 8/10\n",
            "60000/60000 [==============================] - 42s 698us/sample - loss: 0.0086 - acc: 0.9973\n",
            "Epoch 9/10\n",
            "60000/60000 [==============================] - 42s 704us/sample - loss: 0.0070 - acc: 0.9978\n",
            "Epoch 10/10\n",
            "59936/60000 [============================>.] - ETA: 0s - loss: 0.0056 - acc: 0.9981\n",
            "Reached 60% accuracy so cancelling training!\n",
            "60000/60000 [==============================] - 42s 698us/sample - loss: 0.0056 - acc: 0.9981\n"
          ],
          "name": "stdout"
        },
        {
          "output_type": "execute_result",
          "data": {
            "text/plain": [
              "<tensorflow.python.keras.callbacks.History at 0x7fd382d71f60>"
            ]
          },
          "metadata": {
            "tags": []
          },
          "execution_count": 8
        }
      ]
    },
    {
      "metadata": {
        "id": "WzCXvMKBT2H5",
        "colab_type": "code",
        "colab": {
          "base_uri": "https://localhost:8080/",
          "height": 52
        },
        "outputId": "b9f52b90-fc71-4fa5-fe6e-2fd420374d2b"
      },
      "cell_type": "code",
      "source": [
        "model.evaluate(x_test,y_test)"
      ],
      "execution_count": 9,
      "outputs": [
        {
          "output_type": "stream",
          "text": [
            "10000/10000 [==============================] - 2s 226us/sample - loss: 0.0610 - acc: 0.9861\n"
          ],
          "name": "stdout"
        },
        {
          "output_type": "execute_result",
          "data": {
            "text/plain": [
              "[0.061036169527769746, 0.9861]"
            ]
          },
          "metadata": {
            "tags": []
          },
          "execution_count": 9
        }
      ]
    }
  ]
}